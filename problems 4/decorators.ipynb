{
 "cells": [
  {
   "cell_type": "markdown",
   "metadata": {},
   "source": [
    "# Задание 4"
   ]
  },
  {
   "cell_type": "markdown",
   "metadata": {},
   "source": [
    "## 1. Декоратор @cached (0.3 балла)"
   ]
  },
  {
   "cell_type": "markdown",
   "metadata": {},
   "source": [
    "#### Реализуйте класс для хранения результатов выполнения функции\n",
    "\n",
    "* max_count - максимальное число хранимых результатов. Если число результатов превышает max_count, требуется выбросить первый результат, т. е. в кеше должно храниться не более max_count последних результатов.\n",
    "* продумайте архитектуру кеша так, чтобы для функций:\n",
    "\n",
    "<code>\n",
    "@cached\n",
    "def f1():\n",
    "    pass\n",
    "\n",
    "@cached\n",
    "def f2():\n",
    "    pass\n",
    "</code>    \n",
    "должны иметь по max_count хранимых последних результатов, и т. д.\n",
    "\n",
    "<b>P. S.</b>\n",
    "\n",
    "* Считайте, что функция не имеет состояния (зависит только от передаваемых в нее аргументов).\n",
    "* Храните данные так, чтобы из функции нельзя напрямую было получить закешированные результаты (только через \\_\\_closer\\_\\_).\n",
    "\n",
    "<b>Рекомендации:</b>\n",
    "\n",
    "* Для хранения данных используйте OrderedDict.\n",
    "* Декорируйте wrapper с @functools.wraps(func)"
   ]
  },
  {
   "cell_type": "code",
   "execution_count": 1,
   "metadata": {},
   "outputs": [],
   "source": [
    "from collections import OrderedDict\n",
    "from frozendict import frozendict\n",
    "import functools"
   ]
  },
  {
   "cell_type": "code",
   "execution_count": 7,
   "metadata": {},
   "outputs": [],
   "source": [
    "class LruCache(object):\n",
    "    def __init__(self, max_count):\n",
    "        self.max_count = max_count\n",
    "        self.stack = OrderedDict()\n",
    "\n",
    "    def __getitem__(self, key):\n",
    "        if key not in self.stack:\n",
    "            return None\n",
    "        return self.stack[key]\n",
    "\n",
    "    def __setitem__(self, key, value):\n",
    "        if self.max_count is not None and len(self.stack) >= self.max_count:\n",
    "            self.stack.popitem(last=False)\n",
    "        self.stack[key] = value"
   ]
  },
  {
   "cell_type": "markdown",
   "metadata": {},
   "source": [
    "#### Реализуйте декоратор"
   ]
  },
  {
   "cell_type": "code",
   "execution_count": 25,
   "metadata": {},
   "outputs": [],
   "source": [
    "def cached(max_count):\n",
    "    cache = LruCache(max_count)\n",
    "    def cached_decorator(func):\n",
    "        @functools.wraps(func)\n",
    "        def wrapper(*args, **kwargs):\n",
    "            key = (args, frozendict(kwargs))\n",
    "            if cache[key] is None:\n",
    "                cache[key] = func(*args, **kwargs)\n",
    "            return cache[key]\n",
    "        return wrapper\n",
    "    return cached_decorator"
   ]
  },
  {
   "cell_type": "markdown",
   "metadata": {},
   "source": [
    "#### Проверьте использование декоратора"
   ]
  },
  {
   "cell_type": "code",
   "execution_count": 31,
   "metadata": {},
   "outputs": [],
   "source": [
    "@cached(20)\n",
    "def fact(n):\n",
    "    if n < 2:\n",
    "        return 1\n",
    "    return fact(n-1) * n"
   ]
  },
  {
   "cell_type": "code",
   "execution_count": 32,
   "metadata": {},
   "outputs": [
    {
     "name": "stdout",
     "output_type": "stream",
     "text": [
      "CPU times: user 629 µs, sys: 114 µs, total: 743 µs\n",
      "Wall time: 751 µs\n"
     ]
    },
    {
     "data": {
      "text/plain": [
       "93326215443944152681699238856266700490715968264381621468592963895217599993229915608941463976156518286253697920827223758251185210916864000000000000000000000000"
      ]
     },
     "execution_count": 32,
     "metadata": {},
     "output_type": "execute_result"
    }
   ],
   "source": [
    "%time fact(100)"
   ]
  },
  {
   "cell_type": "code",
   "execution_count": 33,
   "metadata": {},
   "outputs": [
    {
     "name": "stdout",
     "output_type": "stream",
     "text": [
      "CPU times: user 50 µs, sys: 9 µs, total: 59 µs\n",
      "Wall time: 64.1 µs\n"
     ]
    },
    {
     "data": {
      "text/plain": [
       "93326215443944152681699238856266700490715968264381621468592963895217599993229915608941463976156518286253697920827223758251185210916864000000000000000000000000"
      ]
     },
     "execution_count": 33,
     "metadata": {},
     "output_type": "execute_result"
    }
   ],
   "source": [
    "%time fact(100)"
   ]
  },
  {
   "cell_type": "code",
   "execution_count": 34,
   "metadata": {},
   "outputs": [],
   "source": [
    "def fib_stupid(n):\n",
    "    if n <= 1:\n",
    "        return n\n",
    "    return fib_stupid(n - 1) + fib_stupid(n - 2)"
   ]
  },
  {
   "cell_type": "code",
   "execution_count": 35,
   "metadata": {},
   "outputs": [],
   "source": [
    "@cached(None)\n",
    "def fib_cached(n):\n",
    "    if n <= 1:\n",
    "        return n\n",
    "    return fib_cached(n - 1) + fib_cached(n - 2)"
   ]
  },
  {
   "cell_type": "code",
   "execution_count": 36,
   "metadata": {},
   "outputs": [
    {
     "name": "stdout",
     "output_type": "stream",
     "text": [
      "CPU times: user 290 ms, sys: 6.44 ms, total: 296 ms\n",
      "Wall time: 296 ms\n"
     ]
    },
    {
     "data": {
      "text/plain": [
       "832040"
      ]
     },
     "execution_count": 36,
     "metadata": {},
     "output_type": "execute_result"
    }
   ],
   "source": [
    "%time fib_stupid(30)"
   ]
  },
  {
   "cell_type": "code",
   "execution_count": 37,
   "metadata": {},
   "outputs": [
    {
     "name": "stdout",
     "output_type": "stream",
     "text": [
      "CPU times: user 935 µs, sys: 30 µs, total: 965 µs\n",
      "Wall time: 985 µs\n"
     ]
    },
    {
     "data": {
      "text/plain": [
       "832040"
      ]
     },
     "execution_count": 37,
     "metadata": {},
     "output_type": "execute_result"
    }
   ],
   "source": [
    "%time fib_cached(30)"
   ]
  },
  {
   "cell_type": "markdown",
   "metadata": {},
   "source": [
    "#### Сравните свою реализацию с lru_cache из functools"
   ]
  },
  {
   "cell_type": "code",
   "execution_count": 38,
   "metadata": {},
   "outputs": [],
   "source": [
    "from functools import lru_cache\n",
    "@lru_cache(maxsize=20, typed=True)\n",
    "def fact1(n):\n",
    "    if n < 2:\n",
    "        return 1\n",
    "    return fact(n-1) * n"
   ]
  },
  {
   "cell_type": "code",
   "execution_count": 39,
   "metadata": {},
   "outputs": [
    {
     "name": "stdout",
     "output_type": "stream",
     "text": [
      "CPU times: user 58 µs, sys: 10 µs, total: 68 µs\n",
      "Wall time: 73.7 µs\n"
     ]
    },
    {
     "data": {
      "text/plain": [
       "93326215443944152681699238856266700490715968264381621468592963895217599993229915608941463976156518286253697920827223758251185210916864000000000000000000000000"
      ]
     },
     "execution_count": 39,
     "metadata": {},
     "output_type": "execute_result"
    }
   ],
   "source": [
    "%time fact1(100)"
   ]
  },
  {
   "cell_type": "code",
   "execution_count": 40,
   "metadata": {},
   "outputs": [
    {
     "name": "stdout",
     "output_type": "stream",
     "text": [
      "CPU times: user 5 µs, sys: 1 µs, total: 6 µs\n",
      "Wall time: 9.3 µs\n"
     ]
    },
    {
     "data": {
      "text/plain": [
       "93326215443944152681699238856266700490715968264381621468592963895217599993229915608941463976156518286253697920827223758251185210916864000000000000000000000000"
      ]
     },
     "execution_count": 40,
     "metadata": {},
     "output_type": "execute_result"
    }
   ],
   "source": [
    "%time fact1(100)"
   ]
  },
  {
   "cell_type": "markdown",
   "metadata": {},
   "source": [
    "Как можно видеть, значения сильно меняются при перезапуске, но кэширование ускоряет."
   ]
  },
  {
   "cell_type": "markdown",
   "metadata": {},
   "source": [
    "### Дополнительное задание (0.2 балла)\n",
    "\n",
    "Дополните декоратор @cached так, чтобы не пересчитывать функцию при изменения ее состояния (например, она использовала глобальную переменную)"
   ]
  },
  {
   "cell_type": "markdown",
   "metadata": {
    "collapsed": true
   },
   "source": [
    "## 2. Декоратор @checked (0.3 балла)\n",
    "\n",
    "Напишите декоратор, который будет вызывать исключение (raise TypeError), если в него переданы аргументы не тех типов.\n",
    "\n",
    "<b>P. S.</b> Разберитесь с модулем typing.\n",
    "\n",
    "<b>Рекомендации:</b>\n",
    "\n",
    "* Декорируйте wrapper с @functools.wraps(func)\n",
    "* Чтобы кинуть иключение используйте конструкцию типа:\n",
    "<code>\n",
    "if < some_condtion >:\n",
    "    raise TypeError\n",
    "</code>"
   ]
  },
  {
   "cell_type": "code",
   "execution_count": 41,
   "metadata": {},
   "outputs": [],
   "source": [
    "def checked(*types):\n",
    "    def getter_func(func):\n",
    "        @functools.wraps(func)\n",
    "        def wrapper(*args, **kwargs):\n",
    "            if any([not isinstance(arg, type_arg) for arg, type_arg in zip(args, types)]):\n",
    "                raise TypeError\n",
    "            return func(*args, **kwargs)\n",
    "        return wrapper\n",
    "    return getter_func"
   ]
  },
  {
   "cell_type": "markdown",
   "metadata": {},
   "source": [
    "#### Проверьте использование декоратора"
   ]
  },
  {
   "cell_type": "code",
   "execution_count": 42,
   "metadata": {},
   "outputs": [],
   "source": [
    "from typing import List\n",
    "\n",
    "@checked(str, int, list)\n",
    "def strange_func(a: str, b: int, c: List):\n",
    "    pass"
   ]
  },
  {
   "cell_type": "code",
   "execution_count": 43,
   "metadata": {},
   "outputs": [],
   "source": [
    "strange_func(\"a\", 5, [1, 2])"
   ]
  },
  {
   "cell_type": "code",
   "execution_count": 44,
   "metadata": {},
   "outputs": [
    {
     "ename": "TypeError",
     "evalue": "strange_func() missing 1 required positional argument: 'c'",
     "output_type": "error",
     "traceback": [
      "\u001b[0;31m---------------------------------------------------------------------------\u001b[0m",
      "\u001b[0;31mTypeError\u001b[0m                                 Traceback (most recent call last)",
      "\u001b[0;32m<ipython-input-44-2240c47d489d>\u001b[0m in \u001b[0;36m<module>\u001b[0;34m()\u001b[0m\n\u001b[0;32m----> 1\u001b[0;31m \u001b[0mstrange_func\u001b[0m\u001b[0;34m(\u001b[0m\u001b[0;34m\"a\"\u001b[0m\u001b[0;34m,\u001b[0m \u001b[0;36m2\u001b[0m\u001b[0;34m)\u001b[0m\u001b[0;34m\u001b[0m\u001b[0;34m\u001b[0m\u001b[0m\n\u001b[0m",
      "\u001b[0;32m<ipython-input-41-dd212353284e>\u001b[0m in \u001b[0;36mwrapper\u001b[0;34m(*args, **kwargs)\u001b[0m\n\u001b[1;32m      5\u001b[0m             \u001b[0;32mif\u001b[0m \u001b[0many\u001b[0m\u001b[0;34m(\u001b[0m\u001b[0;34m[\u001b[0m\u001b[0;32mnot\u001b[0m \u001b[0misinstance\u001b[0m\u001b[0;34m(\u001b[0m\u001b[0marg\u001b[0m\u001b[0;34m,\u001b[0m \u001b[0mtype_arg\u001b[0m\u001b[0;34m)\u001b[0m \u001b[0;32mfor\u001b[0m \u001b[0marg\u001b[0m\u001b[0;34m,\u001b[0m \u001b[0mtype_arg\u001b[0m \u001b[0;32min\u001b[0m \u001b[0mzip\u001b[0m\u001b[0;34m(\u001b[0m\u001b[0margs\u001b[0m\u001b[0;34m,\u001b[0m \u001b[0mtypes\u001b[0m\u001b[0;34m)\u001b[0m\u001b[0;34m]\u001b[0m\u001b[0;34m)\u001b[0m\u001b[0;34m:\u001b[0m\u001b[0;34m\u001b[0m\u001b[0;34m\u001b[0m\u001b[0m\n\u001b[1;32m      6\u001b[0m                 \u001b[0;32mraise\u001b[0m \u001b[0mTypeError\u001b[0m\u001b[0;34m\u001b[0m\u001b[0;34m\u001b[0m\u001b[0m\n\u001b[0;32m----> 7\u001b[0;31m             \u001b[0;32mreturn\u001b[0m \u001b[0mfunc\u001b[0m\u001b[0;34m(\u001b[0m\u001b[0;34m*\u001b[0m\u001b[0margs\u001b[0m\u001b[0;34m,\u001b[0m \u001b[0;34m**\u001b[0m\u001b[0mkwargs\u001b[0m\u001b[0;34m)\u001b[0m\u001b[0;34m\u001b[0m\u001b[0;34m\u001b[0m\u001b[0m\n\u001b[0m\u001b[1;32m      8\u001b[0m         \u001b[0;32mreturn\u001b[0m \u001b[0mwrapper\u001b[0m\u001b[0;34m\u001b[0m\u001b[0;34m\u001b[0m\u001b[0m\n\u001b[1;32m      9\u001b[0m     \u001b[0;32mreturn\u001b[0m \u001b[0mgetter_func\u001b[0m\u001b[0;34m\u001b[0m\u001b[0;34m\u001b[0m\u001b[0m\n",
      "\u001b[0;31mTypeError\u001b[0m: strange_func() missing 1 required positional argument: 'c'"
     ]
    }
   ],
   "source": [
    "strange_func(\"a\", 2)"
   ]
  },
  {
   "cell_type": "code",
   "execution_count": 45,
   "metadata": {},
   "outputs": [
    {
     "ename": "TypeError",
     "evalue": "",
     "output_type": "error",
     "traceback": [
      "\u001b[0;31m---------------------------------------------------------------------------\u001b[0m",
      "\u001b[0;31mTypeError\u001b[0m                                 Traceback (most recent call last)",
      "\u001b[0;32m<ipython-input-45-a2b6d1f5da5e>\u001b[0m in \u001b[0;36m<module>\u001b[0;34m()\u001b[0m\n\u001b[0;32m----> 1\u001b[0;31m \u001b[0mstrange_func\u001b[0m\u001b[0;34m(\u001b[0m\u001b[0;34m\"a\"\u001b[0m\u001b[0;34m,\u001b[0m \u001b[0;34m\"2\"\u001b[0m\u001b[0;34m,\u001b[0m \u001b[0;34m[\u001b[0m\u001b[0;36m1\u001b[0m\u001b[0;34m,\u001b[0m \u001b[0;36m2\u001b[0m\u001b[0;34m]\u001b[0m\u001b[0;34m)\u001b[0m\u001b[0;34m\u001b[0m\u001b[0;34m\u001b[0m\u001b[0m\n\u001b[0m",
      "\u001b[0;32m<ipython-input-41-dd212353284e>\u001b[0m in \u001b[0;36mwrapper\u001b[0;34m(*args, **kwargs)\u001b[0m\n\u001b[1;32m      4\u001b[0m         \u001b[0;32mdef\u001b[0m \u001b[0mwrapper\u001b[0m\u001b[0;34m(\u001b[0m\u001b[0;34m*\u001b[0m\u001b[0margs\u001b[0m\u001b[0;34m,\u001b[0m \u001b[0;34m**\u001b[0m\u001b[0mkwargs\u001b[0m\u001b[0;34m)\u001b[0m\u001b[0;34m:\u001b[0m\u001b[0;34m\u001b[0m\u001b[0;34m\u001b[0m\u001b[0m\n\u001b[1;32m      5\u001b[0m             \u001b[0;32mif\u001b[0m \u001b[0many\u001b[0m\u001b[0;34m(\u001b[0m\u001b[0;34m[\u001b[0m\u001b[0;32mnot\u001b[0m \u001b[0misinstance\u001b[0m\u001b[0;34m(\u001b[0m\u001b[0marg\u001b[0m\u001b[0;34m,\u001b[0m \u001b[0mtype_arg\u001b[0m\u001b[0;34m)\u001b[0m \u001b[0;32mfor\u001b[0m \u001b[0marg\u001b[0m\u001b[0;34m,\u001b[0m \u001b[0mtype_arg\u001b[0m \u001b[0;32min\u001b[0m \u001b[0mzip\u001b[0m\u001b[0;34m(\u001b[0m\u001b[0margs\u001b[0m\u001b[0;34m,\u001b[0m \u001b[0mtypes\u001b[0m\u001b[0;34m)\u001b[0m\u001b[0;34m]\u001b[0m\u001b[0;34m)\u001b[0m\u001b[0;34m:\u001b[0m\u001b[0;34m\u001b[0m\u001b[0;34m\u001b[0m\u001b[0m\n\u001b[0;32m----> 6\u001b[0;31m                 \u001b[0;32mraise\u001b[0m \u001b[0mTypeError\u001b[0m\u001b[0;34m\u001b[0m\u001b[0;34m\u001b[0m\u001b[0m\n\u001b[0m\u001b[1;32m      7\u001b[0m             \u001b[0;32mreturn\u001b[0m \u001b[0mfunc\u001b[0m\u001b[0;34m(\u001b[0m\u001b[0;34m*\u001b[0m\u001b[0margs\u001b[0m\u001b[0;34m,\u001b[0m \u001b[0;34m**\u001b[0m\u001b[0mkwargs\u001b[0m\u001b[0;34m)\u001b[0m\u001b[0;34m\u001b[0m\u001b[0;34m\u001b[0m\u001b[0m\n\u001b[1;32m      8\u001b[0m         \u001b[0;32mreturn\u001b[0m \u001b[0mwrapper\u001b[0m\u001b[0;34m\u001b[0m\u001b[0;34m\u001b[0m\u001b[0m\n",
      "\u001b[0;31mTypeError\u001b[0m: "
     ]
    }
   ],
   "source": [
    "strange_func(\"a\", \"2\", [1, 2])"
   ]
  },
  {
   "cell_type": "markdown",
   "metadata": {},
   "source": [
    "## 3. Декоратор @Logger (0.4 балла)\n",
    "\n",
    "Напишите полноценный logger для вызовов вашей функции. Декоратор должен иметь следующие опции:\n",
    "\n",
    "* Выбор файла в который будет производиться запись: sys.stdout, sys.stderr, локальный файл (передается путь к файлу, если файла нет, то создать, иначе дописывать в конец).\n",
    "* Формат записи в логера: \"<i>index data time functio_name \\*args \\**kwargs result</i>\"\n",
    "* Логер должен быть один для всех функций.\n",
    "\n",
    "<b>Рекомендации:</b>\n",
    "\n",
    "* Декорируйте wrapper с @functools.wraps(func)\n",
    "* Создайте отдельный класс Logger для работы с выводом данных вызовов функций в файл."
   ]
  },
  {
   "cell_type": "code",
   "execution_count": 46,
   "metadata": {},
   "outputs": [],
   "source": [
    "def singleton(class_):\n",
    "    instances = {}\n",
    "    def getinstance(*args, **kwargs):\n",
    "        if class_ not in instances:\n",
    "            instances[class_] = class_(*args, **kwargs)\n",
    "        return instances[class_]\n",
    "    return getinstance"
   ]
  },
  {
   "cell_type": "code",
   "execution_count": 47,
   "metadata": {},
   "outputs": [],
   "source": [
    "import sys\n",
    "from datetime import datetime\n",
    "\n",
    "@singleton\n",
    "class Logger:\n",
    "    def __init__(self, file, format_write=\"index date time functio_name *args **kwargs result\"):\n",
    "        self.format_write=format_write.split()\n",
    "        self.file=file\n",
    "        self.printed_index = 0\n",
    "        \n",
    "    def _create_log_str_(self, func_name, args, kwargs, result):\n",
    "        line = []\n",
    "        \n",
    "        for category in self.format_write:\n",
    "            if category == 'index':\n",
    "                line.append(self.printed_index)\n",
    "                self.printed_index += 1\n",
    "            elif category == 'date':\n",
    "                line.append(datetime.now().date().strftime(\"%B %d, %Y\"))\n",
    "            elif category == \"time\":\n",
    "                line.append(datetime.now().time().strftime('%H:%M:%S'))\n",
    "            elif category == \"functio_name\":\n",
    "                line.append(func_name)\n",
    "            elif category == \"*args\":\n",
    "                line.append(args)\n",
    "            elif category == \"**kwargs\":\n",
    "                line.append(kwargs)\n",
    "            elif category == \"result\":\n",
    "                line.append(result)\n",
    "            else:\n",
    "                raise TypeError\n",
    "        \n",
    "        return ' '.join(str(line)) + '\\n'\n",
    "        \n",
    "    def write(self, func_name, args, kwargs, result):\n",
    "        line = self._create_log_str_(func_name, args, kwargs, result)\n",
    "        if line is not None:        \n",
    "            if isinstance(self.file, str):\n",
    "                with open(self.file, \"a\") as file:\n",
    "                    file.write(line)\n",
    "            else:\n",
    "                self.file.write(line)\n",
    "\n",
    "    def __call__(self, func):\n",
    "        @functools.wraps(func)\n",
    "        def wrapper(*args, **kwargs):\n",
    "            result = func(*args, **kwargs)\n",
    "            self.write(func.__name__, args, kwargs, result)\n",
    "            return result\n",
    "        return wrapper"
   ]
  },
  {
   "cell_type": "code",
   "execution_count": 48,
   "metadata": {},
   "outputs": [],
   "source": [
    "logger = Logger(file=sys.stdout)"
   ]
  },
  {
   "cell_type": "code",
   "execution_count": 49,
   "metadata": {},
   "outputs": [],
   "source": [
    "@logger\n",
    "def func_test_int(num):\n",
    "    return 2*num\n",
    "\n",
    "@logger\n",
    "def func_test_str(line):\n",
    "    return line"
   ]
  },
  {
   "cell_type": "code",
   "execution_count": 51,
   "metadata": {},
   "outputs": [
    {
     "name": "stdout",
     "output_type": "stream",
     "text": [
      "[ 7 ,   ' N o v e m b e r   0 1 ,   2 0 1 8 ' ,   ' 2 0 : 2 1 : 1 5 ' ,   ' f u n c _ t e s t _ i n t ' ,   ( 3 , ) ,   { } ,   6 ]\n",
      "[ 8 ,   ' N o v e m b e r   0 1 ,   2 0 1 8 ' ,   ' 2 0 : 2 1 : 1 5 ' ,   ' f u n c _ t e s t _ i n t ' ,   ( 4 , ) ,   { } ,   8 ]\n",
      "[ 9 ,   ' N o v e m b e r   0 1 ,   2 0 1 8 ' ,   ' 2 0 : 2 1 : 1 5 ' ,   ' f u n c _ t e s t _ i n t ' ,   ( 5 , ) ,   { } ,   1 0 ]\n",
      "[ 1 0 ,   ' N o v e m b e r   0 1 ,   2 0 1 8 ' ,   ' 2 0 : 2 1 : 1 5 ' ,   ' f u n c _ t e s t _ i n t ' ,   ( 6 , ) ,   { } ,   1 2 ]\n",
      "[ 1 1 ,   ' N o v e m b e r   0 1 ,   2 0 1 8 ' ,   ' 2 0 : 2 1 : 1 5 ' ,   ' f u n c _ t e s t _ s t r ' ,   ( ' a b c ' , ) ,   { } ,   ' a b c ' ]\n",
      "[ 1 2 ,   ' N o v e m b e r   0 1 ,   2 0 1 8 ' ,   ' 2 0 : 2 1 : 1 5 ' ,   ' f u n c _ t e s t _ s t r ' ,   ( ' d e f ' , ) ,   { } ,   ' d e f ' ]\n",
      "[ 1 3 ,   ' N o v e m b e r   0 1 ,   2 0 1 8 ' ,   ' 2 0 : 2 1 : 1 5 ' ,   ' f u n c _ t e s t _ s t r ' ,   ( ' g h i ' , ) ,   { } ,   ' g h i ' ]\n"
     ]
    },
    {
     "data": {
      "text/plain": [
       "'ghi'"
      ]
     },
     "execution_count": 51,
     "metadata": {},
     "output_type": "execute_result"
    }
   ],
   "source": [
    "func_test_int(3)\n",
    "func_test_int(4)\n",
    "func_test_int(5)\n",
    "func_test_int(6)\n",
    "func_test_str('abc')\n",
    "func_test_str('def')\n",
    "func_test_str('ghi')"
   ]
  },
  {
   "cell_type": "code",
   "execution_count": null,
   "metadata": {},
   "outputs": [],
   "source": []
  }
 ],
 "metadata": {
  "kernelspec": {
   "display_name": "Python 3",
   "language": "python",
   "name": "python3"
  },
  "language_info": {
   "codemirror_mode": {
    "name": "ipython",
    "version": 3
   },
   "file_extension": ".py",
   "mimetype": "text/x-python",
   "name": "python",
   "nbconvert_exporter": "python",
   "pygments_lexer": "ipython3",
   "version": "3.7.1"
  }
 },
 "nbformat": 4,
 "nbformat_minor": 2
}
