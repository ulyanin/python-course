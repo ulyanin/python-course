{
 "cells": [
  {
   "cell_type": "markdown",
   "metadata": {},
   "source": [
    "# ООП в python"
   ]
  },
  {
   "cell_type": "markdown",
   "metadata": {},
   "source": [
    "## Самый простой класс в python"
   ]
  },
  {
   "cell_type": "code",
   "execution_count": 42,
   "metadata": {},
   "outputs": [
    {
     "name": "stdout",
     "output_type": "stream",
     "text": [
      "My first class, oO!\n",
      "True\n"
     ]
    }
   ],
   "source": [
    "class SomeClass(object):\n",
    "    \n",
    "    pass\n",
    "\n",
    "instance = SomeClass()\n",
    "# Динамическое добавление поля объекту\n",
    "instance.name_class = \"My first class, oO!\"\n",
    "    \n",
    "print(instance.name_class)\n",
    "\n",
    "# Проверка принадлежности объекта классу\n",
    "print(isinstance(instance, SomeClass))"
   ]
  },
  {
   "cell_type": "markdown",
   "metadata": {},
   "source": [
    "## Методы экземпляра класса"
   ]
  },
  {
   "cell_type": "code",
   "execution_count": 45,
   "metadata": {},
   "outputs": [
    {
     "name": "stdout",
     "output_type": "stream",
     "text": [
      "Hate all.\n",
      "Hate all.\n"
     ]
    }
   ],
   "source": [
    "class Blogger(object):\n",
    "    \n",
    "    def tweet(self):\n",
    "        print(\"Hate all.\")\n",
    "    \n",
    "    pass\n",
    "\n",
    "b = Blogger()\n",
    "# Вызов метода экземпляра\n",
    "b.tweet()\n",
    "# Вызов метода класса\n",
    "Blogger.tweet(b)"
   ]
  },
  {
   "cell_type": "markdown",
   "metadata": {},
   "source": [
    "## Плохой класс блогер :("
   ]
  },
  {
   "cell_type": "code",
   "execution_count": 46,
   "metadata": {
    "collapsed": true
   },
   "outputs": [],
   "source": [
    "class Blogger(object):\n",
    "    \n",
    "    def print_last_blog(self):\n",
    "        print(self.last_blog)\n",
    "\n",
    "    def like(self):\n",
    "        self.likes += 1\n",
    "    \n",
    "    def dislike(self):\n",
    "        self.dislikes += 1\n",
    "\n",
    "    pass"
   ]
  },
  {
   "cell_type": "markdown",
   "metadata": {},
   "source": [
    "## Хороший класс блогер :)"
   ]
  },
  {
   "cell_type": "code",
   "execution_count": null,
   "metadata": {
    "collapsed": true
   },
   "outputs": [],
   "source": [
    "class Blogger(object):\n",
    "\n",
    "    def __init__(self, name, last_blog):\n",
    "        self.name = name\n",
    "        self.last_blog = last_blog\n",
    "        self.likes = 0\n",
    "        self.dislikes = 0\n",
    "    \n",
    "    def print_last_blog(self):\n",
    "        print(self.last_blog)\n",
    "\n",
    "    def like(self):\n",
    "        self.likes += 1\n",
    "    \n",
    "    def dislike(self):\n",
    "        self.dislikes += 1\n",
    "\n",
    "    pass"
   ]
  },
  {
   "cell_type": "markdown",
   "metadata": {},
   "source": [
    "## Хороший класс блогер :) 2"
   ]
  },
  {
   "cell_type": "code",
   "execution_count": 58,
   "metadata": {
    "collapsed": true
   },
   "outputs": [],
   "source": [
    "import numpy as np\n",
    "\n",
    "\n",
    "class Blogger(object):\n",
    "\n",
    "    def __init__(self, name, last_blog):\n",
    "        self.name = name\n",
    "        self.last_blog = last_blog\n",
    "        # Соглашение хорошего тона:\n",
    "        # поля с одним нижним подчеркиванием лучше не менять вне класса\n",
    "        self._likes = 0\n",
    "        self._dislikes = 0\n",
    "        self.__hidden_rate = np.random.random()\n",
    "    \n",
    "    def print_last_blog(self):\n",
    "        print(self.last_blog)\n",
    "\n",
    "    def like(self):\n",
    "        self.likes += 1\n",
    "    \n",
    "    def dislike(self):\n",
    "        self.dislikes += 1\n",
    "    \n",
    "    def print_hidden_rate(self):\n",
    "        print(self.__hidden_rate)\n",
    "\n",
    "    pass"
   ]
  },
  {
   "cell_type": "code",
   "execution_count": 59,
   "metadata": {
    "collapsed": true
   },
   "outputs": [],
   "source": [
    "b = Blogger(\"Blogger\", \"Hate all!\")"
   ]
  },
  {
   "cell_type": "code",
   "execution_count": 61,
   "metadata": {},
   "outputs": [
    {
     "name": "stdout",
     "output_type": "stream",
     "text": [
      "0.909795709791629\n"
     ]
    }
   ],
   "source": [
    "b.print_hidden_rate()"
   ]
  },
  {
   "cell_type": "markdown",
   "metadata": {},
   "source": [
    "## Атрибуты класса"
   ]
  },
  {
   "cell_type": "code",
   "execution_count": 73,
   "metadata": {
    "collapsed": true
   },
   "outputs": [],
   "source": [
    "class Blogger(object):\n",
    "    \n",
    "    # Хранится в классе, а не в объекте\n",
    "    comments = []\n",
    "    \n",
    "    def __init__(self, name):\n",
    "        self.name = name\n",
    "    \n",
    "    pass"
   ]
  },
  {
   "cell_type": "code",
   "execution_count": 75,
   "metadata": {},
   "outputs": [
    {
     "data": {
      "text/plain": [
       "['Ваш блог безвкусный. Отсутствие стиля, говорит об отсутствии мозгов.']"
      ]
     },
     "execution_count": 75,
     "metadata": {},
     "output_type": "execute_result"
    }
   ],
   "source": [
    "b1, b2 = Blogger(\"Вася\"), Blogger(\"Кузьма\")\n",
    "b1.comments.append(\"Ваш блог безвкусный. Отсутствие стиля, говорит об отсутствии мозгов.\")\n",
    "b2.comments"
   ]
  },
  {
   "cell_type": "code",
   "execution_count": 76,
   "metadata": {
    "collapsed": true
   },
   "outputs": [],
   "source": [
    "Blogger.comments.append(\"Замечательное сообщение!\")"
   ]
  },
  {
   "cell_type": "code",
   "execution_count": 77,
   "metadata": {},
   "outputs": [
    {
     "data": {
      "text/plain": [
       "(True,\n",
       " ['Ваш блог безвкусный. Отсутствие стиля, говорит об отсутствии мозгов.',\n",
       "  'Замечательное сообщение!'])"
      ]
     },
     "execution_count": 77,
     "metadata": {},
     "output_type": "execute_result"
    }
   ],
   "source": [
    "b1.comments == b2.comments, b1.comments"
   ]
  },
  {
   "cell_type": "markdown",
   "metadata": {},
   "source": [
    "## Связанные методы"
   ]
  },
  {
   "cell_type": "code",
   "execution_count": 91,
   "metadata": {
    "collapsed": true
   },
   "outputs": [],
   "source": [
    "class MyDict(object):\n",
    "    \n",
    "    def __init__(self, d):\n",
    "        self.dict = d\n",
    "        \n",
    "    def max(self):\n",
    "        return max(self.dict, key=self.dict.get)\n",
    "\n",
    "    pass"
   ]
  },
  {
   "cell_type": "code",
   "execution_count": 94,
   "metadata": {},
   "outputs": [
    {
     "data": {
      "text/plain": [
       "<bound method MyDict.max of <__main__.MyDict object at 0x000000FCA9393B00>>"
      ]
     },
     "execution_count": 94,
     "metadata": {},
     "output_type": "execute_result"
    }
   ],
   "source": [
    "d.max"
   ]
  },
  {
   "cell_type": "code",
   "execution_count": 95,
   "metadata": {},
   "outputs": [
    {
     "data": {
      "text/plain": [
       "<function __main__.MyDict.max>"
      ]
     },
     "execution_count": 95,
     "metadata": {},
     "output_type": "execute_result"
    }
   ],
   "source": [
    "MyDict.max"
   ]
  },
  {
   "cell_type": "code",
   "execution_count": 92,
   "metadata": {},
   "outputs": [],
   "source": [
    "d = MyDict({\"a\": 1, \"b\": 2, \"c\": -1})"
   ]
  },
  {
   "cell_type": "code",
   "execution_count": 93,
   "metadata": {},
   "outputs": [
    {
     "data": {
      "text/plain": [
       "'b'"
      ]
     },
     "execution_count": 93,
     "metadata": {},
     "output_type": "execute_result"
    }
   ],
   "source": [
    "d.max()"
   ]
  },
  {
   "cell_type": "markdown",
   "metadata": {},
   "source": [
    "## Наследование 1"
   ]
  },
  {
   "cell_type": "code",
   "execution_count": 97,
   "metadata": {},
   "outputs": [],
   "source": [
    "class Human(object):\n",
    "\n",
    "    def __init__(self, name, age, count_foots):\n",
    "        self.name = name\n",
    "        self.age = age\n",
    "        self.count_foots = count_foots\n",
    "        self.count_hands = 2\n",
    "\n",
    "    pass\n",
    "\n",
    "\n",
    "class Student(Human):\n",
    "    \n",
    "    def __init__(self, name, age):\n",
    "        self.name = name\n",
    "        self.age = age\n",
    "        self.count_foots = 2\n",
    "        self.count_hands = 2\n",
    "\n",
    "    pass\n",
    "\n",
    "\n",
    "class Teacher(Human):\n",
    "    \n",
    "    def __init__(self, name, age):\n",
    "        self.name = name\n",
    "        self.age = age\n",
    "        self.count_foots = 4\n",
    "        self.count_hands = 4\n",
    "\n",
    "    pass\n"
   ]
  },
  {
   "cell_type": "markdown",
   "metadata": {},
   "source": [
    "## Наследование 2"
   ]
  },
  {
   "cell_type": "code",
   "execution_count": 103,
   "metadata": {
    "collapsed": true
   },
   "outputs": [],
   "source": [
    "class Human(object):\n",
    "\n",
    "    def __init__(self, name, age, count_foots):\n",
    "        self.name = name\n",
    "        self.age = age\n",
    "        self.count_foots = count_foots\n",
    "        self.count_hands = 2\n",
    "\n",
    "    pass\n",
    "\n",
    "\n",
    "class Student(Human):\n",
    "    \n",
    "    def __init__(self, name, age):\n",
    "        Human.__init__(self, name, age, 2)\n",
    "    pass\n",
    "\n",
    "\n",
    "class Teacher(Human):\n",
    "    \n",
    "    def __init__(self, name, age):\n",
    "        Human.__init__(self, name, age, 4)\n",
    "        self.count_hands = 4\n",
    "\n",
    "    pass\n"
   ]
  },
  {
   "cell_type": "markdown",
   "metadata": {},
   "source": [
    "## Наследование 3"
   ]
  },
  {
   "cell_type": "code",
   "execution_count": 111,
   "metadata": {
    "collapsed": true
   },
   "outputs": [],
   "source": [
    "class Human(object):\n",
    "\n",
    "    def __init__(self, name, age, count_foots):\n",
    "        self.name = name\n",
    "        self.age = age\n",
    "        self.count_foots = count_foots\n",
    "        self.count_hands = 2\n",
    "\n",
    "    pass\n",
    "\n",
    "\n",
    "class Student(Human):\n",
    "    \n",
    "    def __init__(self, name, age):\n",
    "        super().__init__(name, age, 2)\n",
    "    pass\n",
    "\n",
    "\n",
    "class Teacher(Human):\n",
    "    \n",
    "    def __init__(self, name, age):\n",
    "        super().__init__(name, age, 4)\n",
    "        self.count_hands = 4\n",
    "\n",
    "    pass\n"
   ]
  },
  {
   "cell_type": "markdown",
   "metadata": {},
   "source": [
    "## Особенности наследования"
   ]
  },
  {
   "cell_type": "code",
   "execution_count": 158,
   "metadata": {},
   "outputs": [],
   "source": [
    "\n",
    "\n",
    "class A(object):\n",
    "\n",
    "    def print(self):\n",
    "        print(\"Class А\")\n",
    "    pass\n",
    "\n",
    "\n",
    "class B(A):\n",
    "    \n",
    "    def print(self):\n",
    "        super().print()\n",
    "        print(\"Class B\")\n",
    "\n",
    "    pass\n",
    "\n",
    "\n",
    "class C(A):\n",
    "\n",
    "    def print(self):\n",
    "        super().print()\n",
    "        print(\"Class C\")\n",
    "    \n",
    "    pass\n",
    "\n",
    "\n",
    "class D(B, C):\n",
    "\n",
    "    pass"
   ]
  },
  {
   "cell_type": "code",
   "execution_count": 159,
   "metadata": {
    "collapsed": true
   },
   "outputs": [],
   "source": [
    "d = D()"
   ]
  },
  {
   "cell_type": "code",
   "execution_count": 160,
   "metadata": {},
   "outputs": [
    {
     "name": "stdout",
     "output_type": "stream",
     "text": [
      "Class А\n",
      "Class C\n",
      "Class B\n"
     ]
    }
   ],
   "source": [
    "d.print()"
   ]
  },
  {
   "cell_type": "code",
   "execution_count": 161,
   "metadata": {},
   "outputs": [
    {
     "data": {
      "text/plain": [
       "[__main__.D, __main__.B, __main__.C, __main__.A, object]"
      ]
     },
     "execution_count": 161,
     "metadata": {},
     "output_type": "execute_result"
    }
   ],
   "source": [
    "D.mro()"
   ]
  },
  {
   "cell_type": "markdown",
   "metadata": {},
   "source": [
    "## Нелеаризуемая конструкция"
   ]
  },
  {
   "cell_type": "code",
   "execution_count": 162,
   "metadata": {},
   "outputs": [
    {
     "ename": "TypeError",
     "evalue": "Cannot create a consistent method resolution\norder (MRO) for bases B, C",
     "output_type": "error",
     "traceback": [
      "\u001b[0;31m---------------------------------------------------------------------------\u001b[0m",
      "\u001b[0;31mTypeError\u001b[0m                                 Traceback (most recent call last)",
      "\u001b[0;32m<ipython-input-162-492c63e94512>\u001b[0m in \u001b[0;36m<module>\u001b[0;34m()\u001b[0m\n\u001b[1;32m      3\u001b[0m     \u001b[1;32mpass\u001b[0m\u001b[1;33m\u001b[0m\u001b[0m\n\u001b[1;32m      4\u001b[0m \u001b[1;33m\u001b[0m\u001b[0m\n\u001b[0;32m----> 5\u001b[0;31m \u001b[1;32mclass\u001b[0m \u001b[0mF\u001b[0m\u001b[1;33m(\u001b[0m\u001b[0mD\u001b[0m\u001b[1;33m,\u001b[0m \u001b[0mE\u001b[0m\u001b[1;33m)\u001b[0m\u001b[1;33m:\u001b[0m\u001b[1;33m\u001b[0m\u001b[0m\n\u001b[0m\u001b[1;32m      6\u001b[0m \u001b[1;33m\u001b[0m\u001b[0m\n\u001b[1;32m      7\u001b[0m     \u001b[1;32mpass\u001b[0m\u001b[1;33m\u001b[0m\u001b[0m\n",
      "\u001b[0;31mTypeError\u001b[0m: Cannot create a consistent method resolution\norder (MRO) for bases B, C"
     ]
    }
   ],
   "source": [
    "class E(C, B):\n",
    "\n",
    "    pass\n",
    "\n",
    "class F(D, E):\n",
    "\n",
    "    pass"
   ]
  },
  {
   "cell_type": "markdown",
   "metadata": {},
   "source": [
    "## Магические методы"
   ]
  },
  {
   "cell_type": "markdown",
   "metadata": {},
   "source": [
    "### Конструирование и инициализация"
   ]
  },
  {
   "cell_type": "code",
   "execution_count": 166,
   "metadata": {
    "collapsed": true
   },
   "outputs": [],
   "source": [
    "class FileObject(object):\n",
    "\n",
    "    def __init__(self, filepath='~', filename='sample.txt'):\n",
    "        # открыть файл filename в filepath в режиме чтения и записи\n",
    "        self.file = open(join(filepath, filename), 'r+')\n",
    "\n",
    "    def __del__(self):\n",
    "        self.file.close()\n",
    "        del self.file"
   ]
  },
  {
   "cell_type": "markdown",
   "metadata": {},
   "source": [
    "### Магические методы сравнения"
   ]
  },
  {
   "cell_type": "code",
   "execution_count": 168,
   "metadata": {},
   "outputs": [],
   "source": [
    "class Word(str):\n",
    "    '''Класс для слов, определяющий сравнение по длине слов.'''\n",
    "\n",
    "    def __new__(cls, word):\n",
    "        # Мы должны использовать __new__, так как тип str неизменяемый\n",
    "        # и мы должны инициализировать его раньше (при создании)\n",
    "        if ' ' in word:\n",
    "            print(\"Value contains spaces. Truncating to first space.\")\n",
    "            word = word[:word.index(' ')] # Теперь Word это все символы до первого пробела\n",
    "        return str.__new__(cls, word)\n",
    "\n",
    "    def __gt__(self, other):\n",
    "        return len(self) > len(other)\n",
    "    def __lt__(self, other):\n",
    "        return len(self) < len(other)\n",
    "    def __ge__(self, other):\n",
    "        return len(self) >= len(other)\n",
    "    def __le__(self, other):\n",
    "        return len(self) <= len(other)"
   ]
  },
  {
   "cell_type": "markdown",
   "metadata": {},
   "source": [
    "### Контроль доступа к атрибутам"
   ]
  },
  {
   "cell_type": "code",
   "execution_count": 170,
   "metadata": {},
   "outputs": [],
   "source": [
    "class AccessCounter(object):\n",
    "    '''Класс, содержащий атрибут value и реализующий счётчик доступа к нему.\n",
    "    Счётчик увеличивается каждый раз, когда меняется value.'''\n",
    "\n",
    "    def __init__(self, val):\n",
    "        super(AccessCounter, self).__setattr__('counter', 0)\n",
    "        super(AccessCounter, self).__setattr__('value', val)\n",
    "\n",
    "    def __setattr__(self, name, value):\n",
    "        if name == 'value':\n",
    "            super(AccessCounter, self).__setattr__('counter', self.counter + 1)\n",
    "        # Не будем делать здесь никаких условий.\n",
    "        # Если вы хотите предотвратить изменение других атрибутов,\n",
    "        # выбросьте исключение AttributeError(name)\n",
    "        super(AccessCounter, self).__setattr__(name, value)\n",
    "\n",
    "    def __delattr__(self, name):\n",
    "        if name == 'value':\n",
    "            super(AccessCounter, self).__setattr__('counter', self.counter + 1)\n",
    "        super(AccessCounter, self).__delattr__(name)"
   ]
  },
  {
   "cell_type": "markdown",
   "metadata": {},
   "source": [
    "### Вызываемые объекты"
   ]
  },
  {
   "cell_type": "code",
   "execution_count": 171,
   "metadata": {
    "collapsed": true
   },
   "outputs": [],
   "source": [
    "class Entity(object):\n",
    "    '''Класс, описывающий объект на плоскости. \"Вызываемый\", чтобы обновить позицию объекта.'''\n",
    "\n",
    "    def __init__(self, size, x, y):\n",
    "        self.x, self.y = x, y\n",
    "        self.size = size\n",
    "\n",
    "    def __call__(self, x, y):\n",
    "        '''Изменить положение объекта.'''\n",
    "        self.x, self.y = x, y"
   ]
  },
  {
   "cell_type": "code",
   "execution_count": 174,
   "metadata": {},
   "outputs": [],
   "source": [
    "class Slotter(object):\n",
    "    __slots__ = [\"a\", \"b\"]\n",
    "\n",
    "s = Slotter()"
   ]
  },
  {
   "cell_type": "code",
   "execution_count": 175,
   "metadata": {},
   "outputs": [
    {
     "ename": "AttributeError",
     "evalue": "'Slotter' object has no attribute '__dict__'",
     "output_type": "error",
     "traceback": [
      "\u001b[0;31m---------------------------------------------------------------------------\u001b[0m",
      "\u001b[0;31mAttributeError\u001b[0m                            Traceback (most recent call last)",
      "\u001b[0;32m<ipython-input-175-22a48543beb8>\u001b[0m in \u001b[0;36m<module>\u001b[0;34m()\u001b[0m\n\u001b[0;32m----> 1\u001b[0;31m \u001b[0ms\u001b[0m\u001b[1;33m.\u001b[0m\u001b[0m__dict__\u001b[0m\u001b[1;33m\u001b[0m\u001b[0m\n\u001b[0m",
      "\u001b[0;31mAttributeError\u001b[0m: 'Slotter' object has no attribute '__dict__'"
     ]
    }
   ],
   "source": [
    "s.__dict__"
   ]
  },
  {
   "cell_type": "code",
   "execution_count": 176,
   "metadata": {},
   "outputs": [
    {
     "ename": "AttributeError",
     "evalue": "'Slotter' object has no attribute 'c'",
     "output_type": "error",
     "traceback": [
      "\u001b[0;31m---------------------------------------------------------------------------\u001b[0m",
      "\u001b[0;31mAttributeError\u001b[0m                            Traceback (most recent call last)",
      "\u001b[0;32m<ipython-input-176-aac67dbc00f9>\u001b[0m in \u001b[0;36m<module>\u001b[0;34m()\u001b[0m\n\u001b[0;32m----> 1\u001b[0;31m \u001b[0ms\u001b[0m\u001b[1;33m.\u001b[0m\u001b[0mc\u001b[0m \u001b[1;33m=\u001b[0m \u001b[1;36m1\u001b[0m\u001b[1;33m\u001b[0m\u001b[0m\n\u001b[0m",
      "\u001b[0;31mAttributeError\u001b[0m: 'Slotter' object has no attribute 'c'"
     ]
    }
   ],
   "source": [
    "s.c = 1"
   ]
  },
  {
   "cell_type": "code",
   "execution_count": 178,
   "metadata": {},
   "outputs": [
    {
     "data": {
      "text/plain": [
       "1"
      ]
     },
     "execution_count": 178,
     "metadata": {},
     "output_type": "execute_result"
    }
   ],
   "source": [
    "s.a = 1\n",
    "s.a"
   ]
  },
  {
   "cell_type": "code",
   "execution_count": 179,
   "metadata": {},
   "outputs": [
    {
     "data": {
      "text/plain": [
       "1"
      ]
     },
     "execution_count": 179,
     "metadata": {},
     "output_type": "execute_result"
    }
   ],
   "source": [
    "s.b = 1\n",
    "s.b"
   ]
  },
  {
   "cell_type": "code",
   "execution_count": 180,
   "metadata": {},
   "outputs": [
    {
     "data": {
      "text/plain": [
       "['__class__',\n",
       " '__delattr__',\n",
       " '__dir__',\n",
       " '__doc__',\n",
       " '__eq__',\n",
       " '__format__',\n",
       " '__ge__',\n",
       " '__getattribute__',\n",
       " '__gt__',\n",
       " '__hash__',\n",
       " '__init__',\n",
       " '__init_subclass__',\n",
       " '__le__',\n",
       " '__lt__',\n",
       " '__module__',\n",
       " '__ne__',\n",
       " '__new__',\n",
       " '__reduce__',\n",
       " '__reduce_ex__',\n",
       " '__repr__',\n",
       " '__setattr__',\n",
       " '__sizeof__',\n",
       " '__slots__',\n",
       " '__str__',\n",
       " '__subclasshook__',\n",
       " 'a',\n",
       " 'b']"
      ]
     },
     "execution_count": 180,
     "metadata": {},
     "output_type": "execute_result"
    }
   ],
   "source": [
    "dir(s)"
   ]
  },
  {
   "cell_type": "code",
   "execution_count": null,
   "metadata": {
    "collapsed": true
   },
   "outputs": [],
   "source": []
  }
 ],
 "metadata": {
  "kernelspec": {
   "display_name": "Python 3",
   "language": "python",
   "name": "python3"
  },
  "language_info": {
   "codemirror_mode": {
    "name": "ipython",
    "version": 3
   },
   "file_extension": ".py",
   "mimetype": "text/x-python",
   "name": "python",
   "nbconvert_exporter": "python",
   "pygments_lexer": "ipython3",
   "version": "3.7.0"
  }
 },
 "nbformat": 4,
 "nbformat_minor": 2
}
