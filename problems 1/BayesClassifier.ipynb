{
 "cells": [
  {
   "cell_type": "markdown",
   "metadata": {},
   "source": [
    "# Задание 1\n",
    "\n",
    "\n",
    "### Целью этого задания является знакомство со стандартными контейнерами и некторыми функциями из стандартных библиотек для машинного обучения.\n",
    "\n",
    "Напишите наивный байесовский классификатор и сравните его с реализацией NaiveBayesClassifier из библиотеки nltk.\n",
    "\n",
    "Написанный вами классификатор должен обладать следубщими свойствами:\n",
    "<ul>\n",
    "<li>В предложенном интерфейсе класса должны быть реализованы все методы и все поля. Для их хранения предподсчитанных данных рекомендуется использовать контейнеры Counter или defaultdict из библиотеки collections. Для предсказания категории рекомендуется использовать numpy.</li>\n",
    "<li>Должна использоваться модель, предложенная в теории.</li>\n",
    "<li>Точность предсказаний не менее <b>0.9</b>!</li>\n",
    "<li>После реализации класса протестируйте его с помощью кроссвалидации с k=10. Рекомендуется использовать класс KFold из библиотеки sklearn.</li>\n",
    "<li>Постройте постройте диаграмму размаха для классификаторов (своего и из библиотеки).</li>\n",
    "</ul>"
   ]
  },
  {
   "cell_type": "markdown",
   "metadata": {},
   "source": [
    "### Теория"
   ]
  },
  {
   "cell_type": "markdown",
   "metadata": {},
   "source": [
    "Теория находится в файле problems1-theory.pdf"
   ]
  },
  {
   "cell_type": "markdown",
   "metadata": {},
   "source": [
    "# Решение"
   ]
  },
  {
   "cell_type": "code",
   "execution_count": 83,
   "metadata": {},
   "outputs": [
    {
     "name": "stdout",
     "output_type": "stream",
     "text": [
      "Populating the interactive namespace from numpy and matplotlib\n"
     ]
    },
    {
     "name": "stderr",
     "output_type": "stream",
     "text": [
      "/usr/lib/python3.7/site-packages/IPython/core/magics/pylab.py:160: UserWarning: pylab import has clobbered these variables: ['f', 'test']\n",
      "`%matplotlib` prevents importing * from pylab and numpy\n",
      "  \"\\n`%matplotlib` prevents importing * from pylab and numpy\"\n"
     ]
    }
   ],
   "source": [
    "import pandas as pd\n",
    "import numpy as np\n",
    "from collections import Counter, defaultdict\n",
    "from sklearn.cross_validation import KFold\n",
    "from sklearn.metrics import accuracy_score\n",
    "from nltk import NaiveBayesClassifier\n",
    "from matplotlib import pyplot as plt\n",
    "import tqdm\n",
    "import operator\n",
    "import nltk\n",
    "from collections import defaultdict\n",
    "from sklearn.model_selection import KFold\n",
    "from sklearn.model_selection import cross_val_score\n",
    "from sklearn.metrics import accuracy_score\n",
    "import csv\n",
    "\n",
    "%pylab inline"
   ]
  },
  {
   "cell_type": "markdown",
   "metadata": {},
   "source": [
    "### Прочитайте данные из файла"
   ]
  },
  {
   "cell_type": "code",
   "execution_count": 84,
   "metadata": {},
   "outputs": [],
   "source": [
    "data_path = \"ham-spam.csv\""
   ]
  },
  {
   "cell_type": "code",
   "execution_count": 99,
   "metadata": {},
   "outputs": [
    {
     "name": "stdout",
     "output_type": "stream",
     "text": [
      "{'ham', 'spam'}\n"
     ]
    }
   ],
   "source": [
    "x_message = []\n",
    "y_target = []\n",
    "with open(data_path, mode='r') as f:\n",
    "    next(f)\n",
    "    for row in f:\n",
    "        target, message = row.split(',', maxsplit=1)\n",
    "        x_message.append(message.lower())\n",
    "        y_target.append(target.lower())\n",
    "print(set(y_target))"
   ]
  },
  {
   "cell_type": "markdown",
   "metadata": {},
   "source": [
    "### Реализуйте все методы в классе NaiveBayes"
   ]
  },
  {
   "cell_type": "code",
   "execution_count": 100,
   "metadata": {},
   "outputs": [],
   "source": [
    "class NaiveBayes(object):\n",
    "\n",
    "    def __init__(self, category_priors=None, weight=1, supposed_prob=0.5):\n",
    "        self.category_priors = category_priors\n",
    "        self.weight = weight\n",
    "        self.supposed_prob = supposed_prob\n",
    "\n",
    "        # Количество отдельных слов в заданной категории\n",
    "        self.feature_category_counts = defaultdict(lambda: defaultdict(int))\n",
    "        self.sum_feature_counts = defaultdict(int)\n",
    "        \n",
    "        #Количество отдельных слов в статьях в данной категории\n",
    "        self.feature_category_article_counts = defaultdict(lambda: defaultdict(int))\n",
    "        self.sum_feature_category_article_counts = defaultdict(int)\n",
    "\n",
    "        # Количество всех документов в данной категории\n",
    "        self.category_doc_counts = defaultdict(int)\n",
    "        self.all_docs_count = 0\n",
    "        \n",
    "        # Количество встреч слова во всех сообщениях\n",
    "        self.feature_counts = defaultdict(int)\n",
    "\n",
    "    def fit(self, x_train, y_train):\n",
    "        for i in range(len(y_train)):            \n",
    "            self.all_docs_count += 1                \n",
    "            self.category_doc_counts[y_train[i]] += 1\n",
    "            line = x_train[i].split(' ')\n",
    "            for word in set(line):\n",
    "                self.feature_counts[y_train[i]] += 1\n",
    "                self.feature_category_article_counts[y_train[i]][word] += 1\n",
    "                self.sum_feature_category_article_counts[y_train[i]] += 1\n",
    "                \n",
    "            for word in line:\n",
    "                self.feature_category_counts[y_train[i]][word] += 1\n",
    "                self.sum_feature_counts[y_train[i]] += 1\n",
    "            \n",
    "        if self.category_priors == None:\n",
    "            self.category_priors = {}\n",
    "            for cat in self.get_categories():\n",
    "                self.category_priors[cat] = self.category_doc_counts[cat]/self.all_docs_count\n",
    "                     \n",
    "        return self\n",
    "    \n",
    "    def predict(self, text):\n",
    "        categories = []\n",
    "        for line in text:\n",
    "            probs = self.get_probs(line)\n",
    "            categories.append(self.get_categories()[np.argmax(probs)])\n",
    "        return categories\n",
    "\n",
    "    def score(self, text, labels):\n",
    "        return np.sum(np.array(self.predict(text)) == np.array(labels))/len(labels)\n",
    "\n",
    "    def get_probs(self, text):\n",
    "        if not isinstance(text, list):\n",
    "            text= text.split(' ')\n",
    "            \n",
    "        probs = []        \n",
    "        for category in self.category_doc_counts.keys():\n",
    "            probs.append(self.get_category_prob(category, text))\n",
    "\n",
    "        return probs\n",
    "\n",
    "    def get_category_prob(self, cat, text):\n",
    "        prob = 0\n",
    "        for word in text:\n",
    "            prob += math.log(self.get_weighted_feature_prob(cat, word))\n",
    "        prob += math.log(self.category_priors[cat])\n",
    "\n",
    "        return prob\n",
    "    \n",
    "    def get_weighted_feature_prob(self, cat, feature):\n",
    "        total = self.feature_counts[cat]\n",
    "        p_w_s = self.feature_category_article_counts[cat][feature] / self.sum_feature_category_article_counts[cat]\n",
    "        p_a_w = self.supposed_prob\n",
    "        if feature in self.feature_category_counts[cat]:\n",
    "            p_a_w = self.feature_category_counts[cat][feature]/self.sum_feature_counts[cat]\n",
    "        prob = (self.weight * p_a_w + total * p_w_s) / (total + self.weight) \n",
    "\n",
    "        return prob\n",
    "\n",
    "    def get_categories(self):\n",
    "        return list(self.category_doc_counts.keys())\n",
    "pass"
   ]
  },
  {
   "cell_type": "code",
   "execution_count": 101,
   "metadata": {},
   "outputs": [
    {
     "data": {
      "application/vnd.jupyter.widget-view+json": {
       "model_id": "a7ecc2d0d8194c5f9d92be03d36eb5b2",
       "version_major": 2,
       "version_minor": 0
      },
      "text/plain": [
       "HBox(children=(IntProgress(value=1, bar_style='info', max=1), HTML(value='')))"
      ]
     },
     "metadata": {},
     "output_type": "display_data"
    },
    {
     "name": "stdout",
     "output_type": "stream",
     "text": [
      "\n"
     ]
    },
    {
     "data": {
      "text/plain": [
       "0.9554122419758979"
      ]
     },
     "execution_count": 101,
     "metadata": {},
     "output_type": "execute_result"
    }
   ],
   "source": [
    "accuracy = []\n",
    "x_message = np.array(x_message)\n",
    "y_target = np.array(y_target)\n",
    "kf = KFold(n_splits=10, random_state=1, shuffle=True)\n",
    "for train_index, test_index in tqdm.tqdm_notebook(kf.split(x_message)):\n",
    "    method = NaiveBayes()\n",
    "    x_train_part, y_train_part = x_message[train_index], y_target[train_index]\n",
    "    x_test_part, y_test_part = x_message[test_index], y_target[test_index]\n",
    "    method.fit(x_train_part, y_train_part)\n",
    "    accuracy.append(method.score(x_test_part, y_test_part))\n",
    "np.mean(accuracy)"
   ]
  },
  {
   "cell_type": "markdown",
   "metadata": {},
   "source": [
    "### Сравните вашу реализацию и реализацию из библиотеки nltk\n",
    "\n",
    "Для использования классификатора из библиотеки не забудьте предподготовить данные. Для подсчета точности этого классификатора можете использовать accuracy_score из метрик sklearn. Для подсчета точности предсказаний вашего классификатора используйте функцию score, которую вы опишете."
   ]
  },
  {
   "cell_type": "code",
   "execution_count": 102,
   "metadata": {},
   "outputs": [],
   "source": [
    "# Предобработка данных для классификатора nltk, если требуется\n",
    "x_message = np.array([{word: True for word in set(message)} for message in x_message])"
   ]
  },
  {
   "cell_type": "code",
   "execution_count": 103,
   "metadata": {},
   "outputs": [
    {
     "data": {
      "text/plain": [
       "0.905982579644434"
      ]
     },
     "execution_count": 103,
     "metadata": {},
     "output_type": "execute_result"
    }
   ],
   "source": [
    "accuracy_nltk = []\n",
    "kf = KFold(n_splits=10, random_state=1, shuffle=True)\n",
    "for train_index, test_index in kf.split(x_message):\n",
    "    x_train_part, y_train_part = x_message[train_index], y_target[train_index]\n",
    "    x_test_part, y_test_part = x_message[test_index], y_target[test_index]\n",
    "    train = [(x, y) for x, y in zip(x_train_part, y_train_part)]\n",
    "    test = [(x, y) for x, y in zip(x_test_part, y_test_part)]\n",
    "    method = NaiveBayesClassifier.train(train)\n",
    "    accuracy_nltk.append(nltk.classify.util.accuracy(method, test))\n",
    "np.mean(accuracy_nltk)"
   ]
  },
  {
   "cell_type": "markdown",
   "metadata": {},
   "source": [
    "### Постройте графики размаха для двух классификаторов на одной фигуре.\n",
    "\n",
    "Рекомендуется использовать встроенные функции построения графиков в pandas."
   ]
  },
  {
   "cell_type": "code",
   "execution_count": 104,
   "metadata": {},
   "outputs": [
    {
     "data": {
      "image/png": "[encoded data removed]",
      "text/plain": [
       "<Figure size 432x288 with 1 Axes>"
      ]
     },
     "metadata": {
      "needs_background": "light"
     },
     "output_type": "display_data"
    }
   ],
   "source": [
    "plt.boxplot([accuracy_nltk, accuracy], labels=[\"nltk\", \"my naive bayes\"])\n",
    "plt.show()"
   ]
  },
  {
   "cell_type": "code",
   "execution_count": null,
   "metadata": {
    "collapsed": true
   },
   "outputs": [],
   "source": []
  }
 ],
 "metadata": {
  "kernelspec": {
   "display_name": "Python 3",
   "language": "python",
   "name": "python3"
  },
  "language_info": {
   "codemirror_mode": {
    "name": "ipython",
    "version": 3
   },
   "file_extension": ".py",
   "mimetype": "text/x-python",
   "name": "python",
   "nbconvert_exporter": "python",
   "pygments_lexer": "ipython3",
   "version": "3.7.0"
  }
 },
 "nbformat": 4,
 "nbformat_minor": 2
}
