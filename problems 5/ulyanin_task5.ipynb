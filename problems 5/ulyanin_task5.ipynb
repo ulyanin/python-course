{
 "cells": [
  {
   "cell_type": "markdown",
   "metadata": {},
   "source": [
    "# Задание 5"
   ]
  },
  {
   "cell_type": "markdown",
   "metadata": {},
   "source": [
    "## 1. ContextTimer(0.3 балла)\n",
    "Напишите менеджер контекста, который позволит засекать время выполнения блока кода с помощью конструкции with и выводить это время на экран по выходу из блока. Пример использования:\n",
    "\n",
    "<code>\n",
    "with Timer ():\n",
    "    do_some_long_stuff()\n",
    "</code>\n",
    "\n",
    "Рекомендации: используйте стандартную библиотеку для работы со временем.\n",
    "\n",
    "Протестируйте себя."
   ]
  },
  {
   "cell_type": "code",
   "execution_count": 1,
   "metadata": {},
   "outputs": [],
   "source": [
    "import time\n",
    "import datetime\n",
    "\n",
    "class Timer():\n",
    "    def __init__(self):\n",
    "        self.start = 0\n",
    "        self.end = 0\n",
    "        \n",
    "    def __enter__(self):\n",
    "        self.start = time.time()\n",
    "        \n",
    "    def __exit__(self, *args):\n",
    "        self.end = time.time()\n",
    "        self.delta = self.end - self.start\n",
    "        print(str(datetime.timedelta(seconds=self.delta)))"
   ]
  },
  {
   "cell_type": "code",
   "execution_count": 17,
   "metadata": {},
   "outputs": [],
   "source": [
    "import sys\n",
    "sys.setrecursionlimit(10**5)"
   ]
  },
  {
   "cell_type": "code",
   "execution_count": 25,
   "metadata": {},
   "outputs": [],
   "source": [
    "def fact(n):\n",
    "    if (n < 2):\n",
    "        return 1\n",
    "    return (n * fact(n - 1)) "
   ]
  },
  {
   "cell_type": "code",
   "execution_count": 26,
   "metadata": {},
   "outputs": [
    {
     "name": "stdout",
     "output_type": "stream",
     "text": [
      "0:00:00.009794\n"
     ]
    }
   ],
   "source": [
    "with Timer():\n",
    "    fact(5000)"
   ]
  },
  {
   "cell_type": "code",
   "execution_count": 27,
   "metadata": {},
   "outputs": [
    {
     "name": "stdout",
     "output_type": "stream",
     "text": [
      "CPU times: user 926 µs, sys: 15 µs, total: 941 µs\n",
      "Wall time: 950 µs\n"
     ]
    },
    {
     "data": {
      "text/plain": [
       "402387260077093773543702433923003985719374864210714632543799910429938512398629020592044208486969404800479988610197196058631666872994808558901323829669944590997424504087073759918823627727188732519779505950995276120874975462497043601418278094646496291056393887437886487337119181045825783647849977012476632889835955735432513185323958463075557409114262417474349347553428646576611667797396668820291207379143853719588249808126867838374559731746136085379534524221586593201928090878297308431392844403281231558611036976801357304216168747609675871348312025478589320767169132448426236131412508780208000261683151027341827977704784635868170164365024153691398281264810213092761244896359928705114964975419909342221566832572080821333186116811553615836546984046708975602900950537616475847728421889679646244945160765353408198901385442487984959953319101723355556602139450399736280750137837615307127761926849034352625200015888535147331611702103968175921510907788019393178114194545257223865541461062892187960223838971476088506276862967146674697562911234082439208160153780889893964518263243671616762179168909779911903754031274622289988005195444414282012187361745992642956581746628302955570299024324153181617210465832036786906117260158783520751516284225540265170483304226143974286933061690897968482590125458327168226458066526769958652682272807075781391858178889652208164348344825993266043367660176999612831860788386150279465955131156552036093988180612138558600301435694527224206344631797460594682573103790084024432438465657245014402821885252470935190620929023136493273497565513958720559654228749774011413346962715422845862377387538230483865688976461927383814900140767310446640259899490222221765904339901886018566526485061799702356193897017860040811889729918311021171229845901641921068884387121855646124960798722908519296819372388642614839657382291123125024186649353143970137428531926649875337218940694281434118520158014123344828015051399694290153483077644569099073152433278288269864602789864321139083506217095002597389863554277196742822248757586765752344220207573630569498825087968928162753848863396909959826280956121450994871701244516461260379029309120889086942028510640182154399457156805941872748998094254742173582401063677404595741785160829230135358081840096996372524230560855903700624271243416909004153690105933983835777939410970027753472000000000000000000000000000000000000000000000000000000000000000000000000000000000000000000000000000000000000000000000000000000000000000000000000000000000000000000000000000000000000000000000000000000000000000000000000000000000000000000000000000000000"
      ]
     },
     "execution_count": 27,
     "metadata": {},
     "output_type": "execute_result"
    }
   ],
   "source": [
    "%%time\n",
    "fact(1000)"
   ]
  },
  {
   "cell_type": "markdown",
   "metadata": {},
   "source": [
    "## 2.Transaction (0.4 балла)\n",
    "Вам необходимо написать менеджер контекстов, который позволит безопасно работать с транзакциями. Напишите класс Storage, в котором будут храниться какие-то данные в виде словаря. Эти данные должны быть закрытыми и их можно только читать через операцию []. У этого класса должен быть метод edit, который возвращает менеджер контекста, позволяющий редактировать исходный объект (опять же через []). При этом результаты редактирования записываются в исходный объект только если весь блок выполнился успешно. Пример использования:\n",
    "\n",
    "<code>\n",
    "s = Storage()\n",
    "with s.edit() as se :\n",
    "    se[\"a\"] = 1\n",
    "    may_be_an_exception_here()\n",
    "</code>\n",
    "\n",
    "Протестируйте себя."
   ]
  },
  {
   "cell_type": "code",
   "execution_count": 28,
   "metadata": {},
   "outputs": [],
   "source": [
    "import copy\n",
    "class Storage:\n",
    "    class Manager():\n",
    "        def __init__(self, dict_base):\n",
    "            self.__manager_dict = copy.deepcopy(dict_base)\n",
    "            self.dict = dict_base\n",
    "        \n",
    "        def __enter__(self):\n",
    "            return self\n",
    "               \n",
    "        def __exit__(self, *args):\n",
    "            for arg in args:\n",
    "                if arg is not None:\n",
    "                    self.__manager_dict = self.dict\n",
    "                    pass\n",
    "            self.dict = copy.deepcopy(self.__manager_dict)\n",
    "            \n",
    "        def __setitem__(self, key, value):\n",
    "            self.__manager_dict[key] = value\n",
    "        \n",
    "    def __init__(self, base_dict={}):\n",
    "        self.__manager = Storage.Manager(base_dict)\n",
    "        \n",
    "    def __getitem__(self, key):\n",
    "        if key in self.__manager.dict:\n",
    "            return self.__manager.dict[key]\n",
    "        \n",
    "    def edit(self):\n",
    "        return self.__manager"
   ]
  },
  {
   "cell_type": "code",
   "execution_count": 29,
   "metadata": {},
   "outputs": [
    {
     "name": "stdout",
     "output_type": "stream",
     "text": [
      "10\n",
      "None\n"
     ]
    }
   ],
   "source": [
    "s = Storage({})\n",
    "\n",
    "with s.edit() as se:\n",
    "    se[\"a\"] = 10\n",
    "try:\n",
    "    with s.edit() as se:\n",
    "        se[\"b\"] = 20\n",
    "        raise Exception()\n",
    "except:\n",
    "    pass\n",
    "\n",
    "print(s[\"a\"])\n",
    "print(s[\"b\"])"
   ]
  },
  {
   "cell_type": "code",
   "execution_count": 34,
   "metadata": {},
   "outputs": [
    {
     "name": "stdout",
     "output_type": "stream",
     "text": [
      "exception caught\n"
     ]
    }
   ],
   "source": [
    "s = Storage({1: 'a', 2: 'b'})\n",
    "try:\n",
    "    with s.edit() as se:\n",
    "        se[2] = 'c'\n",
    "        raise Exception()\n",
    "except:\n",
    "    print(\"exception caught\")\n",
    "    pass"
   ]
  },
  {
   "cell_type": "code",
   "execution_count": 31,
   "metadata": {},
   "outputs": [
    {
     "name": "stdout",
     "output_type": "stream",
     "text": [
      "a b\n"
     ]
    }
   ],
   "source": [
    "print(s[1], s[2])\n"
   ]
  },
  {
   "cell_type": "code",
   "execution_count": 32,
   "metadata": {},
   "outputs": [
    {
     "name": "stdout",
     "output_type": "stream",
     "text": [
      "c b\n"
     ]
    }
   ],
   "source": [
    "with s.edit() as se:\n",
    "    se[1] = 'c'\n",
    "print(s[1], s[2])"
   ]
  },
  {
   "cell_type": "markdown",
   "metadata": {},
   "source": [
    "## Phone numbers (0.3)\n",
    "Напишите регулярное выражение для распознавания телефонных номеров и протестируйте себя. Номера, которые должны распознаваться:\n",
    "* 3-22-46\n",
    "* +71239513749\n",
    "* 71239513749\n",
    "* 1239513749\n",
    "* +7(123)-951-37-49\n",
    "* +7(123)9513749\n",
    "* +7-123-9513749\n",
    "* +7-123-951-37-49\n",
    "\n",
    "* 7(123)-951-37-49\n",
    "* 7(123)9513749\n",
    "* 7-123-9513749\n",
    "* 7-123-951-37-49\n",
    "\n",
    "* (123)-951-37-49\n",
    "* (123)9513749\n",
    "* 123-9513749\n",
    "* 123-951-37-49"
   ]
  },
  {
   "cell_type": "code",
   "execution_count": 90,
   "metadata": {},
   "outputs": [],
   "source": [
    "import re\n",
    "str_sample = \"\"\"3-22-46\n",
    "* +71239513749\n",
    "* 71239513749\n",
    "* 1239513749\n",
    "* +7(123)-951-37-49\n",
    "* +7(123)9513749\n",
    "* +7-123-9513749\n",
    "* +7-123-951-37-49\n",
    "* 7(123)-951-37-49\n",
    "* 7(123)9513749\n",
    "* 7-123-9513749\n",
    "* 7-123-951-37-49\n",
    "* (123)-951-37-49\n",
    "* (123)9513749\n",
    "* 123-9513749\n",
    "* 123-951-37-49\n",
    "* +7(999 999-99-99\n",
    "* +7-999 999-99-99\n",
    "* +7(999)999-99-99\n",
    "* +7(999)999-99-999\"\"\""
   ]
  },
  {
   "cell_type": "code",
   "execution_count": 91,
   "metadata": {},
   "outputs": [
    {
     "data": {
      "text/plain": [
       "['3-22-46',\n",
       " '+71239513749',\n",
       " '71239513749',\n",
       " '1239513749',\n",
       " '+7(123)-951-37-49',\n",
       " '+7(123)9513749',\n",
       " '+7-123-9513749',\n",
       " '+7-123-951-37-49',\n",
       " '7(123)-951-37-49',\n",
       " '7(123)9513749',\n",
       " '7-123-9513749',\n",
       " '7-123-951-37-49',\n",
       " '(123)-951-37-49',\n",
       " '(123)9513749',\n",
       " '123-9513749',\n",
       " '123-951-37-49',\n",
       " '+7(999 999-99-99',\n",
       " '+7-999 999-99-99',\n",
       " '+7(999)999-99-99',\n",
       " '+7(999)999-99-999']"
      ]
     },
     "execution_count": 91,
     "metadata": {},
     "output_type": "execute_result"
    }
   ],
   "source": [
    "samples = str_sample.split('\\n* ')\n",
    "samples"
   ]
  },
  {
   "cell_type": "code",
   "execution_count": 92,
   "metadata": {},
   "outputs": [
    {
     "data": {
      "text/plain": [
       "<re.Match object; span=(0, 17), match='+7(123)-951-37-49'>"
      ]
     },
     "execution_count": 92,
     "metadata": {},
     "output_type": "execute_result"
    }
   ],
   "source": [
    "#pattern = r'(\\+\\d+|\\d*)(\\-?\\d+|\\(?\\d+\\)?)(\\-?\\d+){1,3}'\n",
    "pattern = r'(\\+?\\d)?\\s*\\-?\\s*(\\d{3}|\\(\\d{3}\\))\\s*\\-?\\s*(\\d{3}|\\(\\d{3}\\))\\s*\\-?\\s*(\\d{2}|\\(\\d{2}\\))\\s*\\-?\\s*(\\d{2}|\\(\\d{2}\\))'\n",
    "\n",
    "res = re.match(pattern, '+7(123)-951-37-49')\n",
    "res"
   ]
  },
  {
   "cell_type": "code",
   "execution_count": 96,
   "metadata": {},
   "outputs": [
    {
     "name": "stdout",
     "output_type": "stream",
     "text": [
      "3-22-46 False\n",
      "+71239513749 True\n",
      "71239513749 True\n",
      "1239513749 True\n",
      "+7(123)-951-37-49 True\n",
      "+7(123)9513749 True\n",
      "+7-123-9513749 True\n",
      "+7-123-951-37-49 True\n",
      "7(123)-951-37-49 True\n",
      "7(123)9513749 True\n",
      "7-123-9513749 True\n",
      "7-123-951-37-49 True\n",
      "(123)-951-37-49 True\n",
      "(123)9513749 True\n",
      "123-9513749 True\n",
      "123-951-37-49 True\n",
      "+7(999 999-99-99 False\n",
      "+7-999 999-99-99 True\n",
      "+7(999)999-99-99 True\n",
      "+7(999)999-99-999 False\n"
     ]
    }
   ],
   "source": [
    "\n",
    "for sample in samples:\n",
    "    m = re.match(pattern, sample)\n",
    "    print(sample, m is not None and m.start() == 0 and m.end() == len(sample))"
   ]
  },
  {
   "cell_type": "code",
   "execution_count": null,
   "metadata": {},
   "outputs": [],
   "source": []
  },
  {
   "cell_type": "code",
   "execution_count": null,
   "metadata": {},
   "outputs": [],
   "source": []
  }
 ],
 "metadata": {
  "kernelspec": {
   "display_name": "Python 3",
   "language": "python",
   "name": "python3"
  },
  "language_info": {
   "codemirror_mode": {
    "name": "ipython",
    "version": 3
   },
   "file_extension": ".py",
   "mimetype": "text/x-python",
   "name": "python",
   "nbconvert_exporter": "python",
   "pygments_lexer": "ipython3",
   "version": "3.7.1"
  }
 },
 "nbformat": 4,
 "nbformat_minor": 2
}
