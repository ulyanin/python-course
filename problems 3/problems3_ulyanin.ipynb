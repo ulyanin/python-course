{
 "cells": [
  {
   "cell_type": "markdown",
   "metadata": {},
   "source": [
    "# Задание 3"
   ]
  },
  {
   "cell_type": "markdown",
   "metadata": {},
   "source": [
    "#### CounterGetter (0.1 балл)\n",
    "Реализуйте класс CounterGetter, который на вход принимает произвольное количество именованых аргументов и считает количество обращений к полям и методам класса во всех экземплярах."
   ]
  },
  {
   "cell_type": "code",
   "execution_count": 16,
   "metadata": {},
   "outputs": [],
   "source": [
    "class CounterGetter(object):\n",
    "    counter = 0\n",
    "    \n",
    "    def __init__(self, **kwargs):\n",
    "        self.test = 0\n",
    "    \n",
    "    def __getattribute__(self, name):        \n",
    "        CounterGetter.counter += 1\n",
    "        #object.__setattr__(self, 'counter', object.__getattribute__(self, 'counter') + 1)\n",
    "        return  object.__getattribute__(self, name)"
   ]
  },
  {
   "cell_type": "code",
   "execution_count": 17,
   "metadata": {},
   "outputs": [
    {
     "name": "stdout",
     "output_type": "stream",
     "text": [
      "1 2 2\n",
      "0\n",
      "4 5 5\n"
     ]
    }
   ],
   "source": [
    "a = CounterGetter()\n",
    "b = CounterGetter()\n",
    "print(a.counter, b.counter, CounterGetter.counter)\n",
    "print(a.test)\n",
    "print(a.counter, b.counter, CounterGetter.counter)"
   ]
  },
  {
   "cell_type": "markdown",
   "metadata": {},
   "source": [
    "#### Vector (0.4 балла)"
   ]
  },
  {
   "cell_type": "markdown",
   "metadata": {},
   "source": [
    "Реализуйте класс вектор, который должен обладать следующими свойствами:\n",
    "* Над экземплярами выполняются арифметические операции (+-\\*/). Операции могут выполняться как с числами, так и с векторами. Если второй операнд вектор, то верните их скалярное произведение, если число, выполните поэлементное действие.\n",
    "* Реализуйте доступ к элементам вектора по индексам:\n",
    "\n",
    "<code>vec = Vector(1, 2, 3)\n",
    "\n",
    "vec[0]</code>\n",
    "* Реализуйте умножение вектора на матрицу (Матрица задается двумерным списком).\n",
    "* Поддерживайте методы push_back, pop_back, insert.\n",
    "* Реализуйте поддержку функции len\n",
    "\n",
    "P. S. Запрещается использовать numpy и другие библиотеки по работе с векторами. Рекомендуется представлять элементы вектора как список."
   ]
  },
  {
   "cell_type": "code",
   "execution_count": 34,
   "metadata": {},
   "outputs": [],
   "source": [
    "import math\n",
    "\n",
    "class Vector(object):\n",
    "    def __init__(self, *args):\n",
    "        self.vector = list()\n",
    "        for arg in args:\n",
    "            self.vector.append(arg)\n",
    "        \n",
    "    def __getitem__(self, key):\n",
    "        return self.vector[key]\n",
    "    \n",
    "    def __add__(self, other):\n",
    "        res = Vector()\n",
    "        \n",
    "        if type(other) is Vector:\n",
    "            if len(other) == len(self):\n",
    "                for i in range(len(self)):\n",
    "                    res.push_back(self[i] + other[i])\n",
    "        else:\n",
    "            for elem in self.vector:\n",
    "                res.push_back(other + elem)\n",
    "        \n",
    "        return res\n",
    "    \n",
    "    def __str__(self):\n",
    "        return \"Vector(\" + str(self.vector)[1:-1] + \")\"\n",
    "    \n",
    "    def __repr__(self):\n",
    "        return \"Vector(\" + repr(self.vector)[1:-1] + \")\"\n",
    "    \n",
    "    def __sub__(self, other):\n",
    "            return self + other*(-1)\n",
    "        \n",
    "    def __mul__(self, other):\n",
    "        if type(other) is Vector:\n",
    "            if len(other) == len(self):\n",
    "                res = 0\n",
    "                for i in range(len(self)):\n",
    "                    res += self[i]*other[i]\n",
    "                return res\n",
    "        res = Vector()\n",
    "        for elem in self.vector:\n",
    "            res.push_back(elem*other)\n",
    "        return res\n",
    "    \n",
    "    def __truediv__(self, other):\n",
    "        if type(other) is Vector:\n",
    "            if len(other) == len(self):\n",
    "                res = 0\n",
    "                for i in range(len(self)):\n",
    "                    res += self[i]/other[i]\n",
    "                return res\n",
    "        res = Vector()\n",
    "        for elem in self.vector:\n",
    "            res.push_back(elem/other)\n",
    "        return res\n",
    "    \n",
    "    def push_back(self, value):\n",
    "        self.vector.append(value)\n",
    "    \n",
    "    def pop_back(self):\n",
    "        val = self.vector.pop(-1)\n",
    "        return val\n",
    "    \n",
    "    def insert(self, i, x):\n",
    "        self.vector.insert(i, x)\n",
    "    \n",
    "    def __len__(self):\n",
    "        return len(self.vector)\n",
    "    \n",
    "    def matrix_mult(self, matrix):\n",
    "        if len(matrix) == len(self):\n",
    "            res = Vector()\n",
    "            for i in range(len(matrix)):\n",
    "                tmp = Vector()\n",
    "                for row in matrix:\n",
    "                    tmp.push_back(row[i])\n",
    "                res.push_back(self*tmp)\n",
    "            return res"
   ]
  },
  {
   "cell_type": "code",
   "execution_count": 40,
   "metadata": {},
   "outputs": [
    {
     "name": "stdout",
     "output_type": "stream",
     "text": [
      "Vector(1, 2, 3)\n",
      "Vector(2, 4, 6)\n",
      "Vector(3, 5, 7)\n",
      "3\n"
     ]
    }
   ],
   "source": [
    "vec = Vector(1, 2, 3)\n",
    "print(vec)\n",
    "vec *= 2\n",
    "print(vec)\n",
    "vec += 1\n",
    "print(vec)\n",
    "print(vec[0])"
   ]
  },
  {
   "cell_type": "code",
   "execution_count": 38,
   "metadata": {},
   "outputs": [],
   "source": [
    "matrix = [\n",
    "    [0, 0, 1],\n",
    "    [0, 1, 0],\n",
    "    [1, 0, 0],\n",
    "]"
   ]
  },
  {
   "cell_type": "code",
   "execution_count": 39,
   "metadata": {},
   "outputs": [
    {
     "name": "stdout",
     "output_type": "stream",
     "text": [
      "Vector(7, 5, 3)\n"
     ]
    }
   ],
   "source": [
    "print(vec.matrix_mult(matrix))"
   ]
  },
  {
   "cell_type": "markdown",
   "metadata": {},
   "source": [
    "#### Table (0.5 баллов)"
   ]
  },
  {
   "cell_type": "markdown",
   "metadata": {},
   "source": [
    "Реализуйте класс для работы с таблицами. Класс должен обладать следующей функциональностью:\n",
    "\n",
    "* Таблица может задаваться как двумерным списком, так и читаться из файла. Если читается из файла, то должен быть указан разделитель.\n",
    "\n",
    "* Обладать возможностью задания названия колонок (по номеру, если не задано). Если читается из файла и задан параметр наличия именованных колонок, то первая строчка файла отвечает за названия колонок.\n",
    "\n",
    "* Реализуйте доступ к колонкам по названю и по индекс:\n",
    "\n",
    "<code>t = Table()\n",
    "\n",
    "t[\"index\"]</code>\n",
    "\n",
    "* Реализуйте функции head и tail, которые показывают заданное число строк с начала и с конца соответственно.\n",
    "* Реадизуйте методы unique и count, которые выводят все уникальные элементы для таблицы или для заданного столбца:\n",
    "\n",
    "<code>\n",
    "\n",
    "t[\"sex\"].unique()\n",
    "\n",
    "t.unique()\n",
    "\n",
    "</code>"
   ]
  },
  {
   "cell_type": "code",
   "execution_count": 112,
   "metadata": {},
   "outputs": [],
   "source": [
    "from collections import defaultdict\n",
    "\n",
    "class Column(list):\n",
    "        def __init__(self, *args):\n",
    "            list.__init__(self, *args)\n",
    "                \n",
    "        def unique(self):\n",
    "            return list(set(self))\n",
    "        \n",
    "        def count(self):\n",
    "            res = defaultdict(int)\n",
    "            for elem in self:\n",
    "                res[elem] += 1\n",
    "            return res\n",
    "        \n",
    "class Table(object):\n",
    "           \n",
    "    def __init__(self, data=None, file=None, delim=None, name=False, column_names=None):\n",
    "        if file is not None:\n",
    "            self.data = Column()\n",
    "            with open(file, mode='r') as text:\n",
    "                if name:\n",
    "                    self.columns_names = text.readline().strip().split(div)\n",
    "                for line in text:\n",
    "                    self.data.append(line.strip().split(delim))\n",
    "        elif data is not None:\n",
    "            self.data = data\n",
    "            if column_names is not None:\n",
    "                self.columns_names = column_names\n",
    "            else:\n",
    "                self.columns_names = [x for x in range(len(data[0]))]\n",
    "    \n",
    "    def _get_column_(self, col_numb):\n",
    "        res = Column()\n",
    "        for row in self.data:\n",
    "            res.append(row[col_numb])\n",
    "        return res\n",
    "    \n",
    "    def head(self, num=10):\n",
    "        return self.data[:num]\n",
    "    \n",
    "    def tail(self, num=10):\n",
    "        return self.data[-num:]\n",
    "    \n",
    "    def unique(self):\n",
    "        return list(set(sum(self.data, [])))\n",
    "    \n",
    "    def count(self):\n",
    "        res = defaultdict(int)\n",
    "        for row in self.data:\n",
    "            for elem in row:\n",
    "                res[elem] += 1\n",
    "        return res\n",
    "    \n",
    "    def __getitem__(self, key):\n",
    "        if key in self.columns_names:\n",
    "            return self._get_column_(self.columns_names.index(key))"
   ]
  },
  {
   "cell_type": "code",
   "execution_count": 113,
   "metadata": {},
   "outputs": [],
   "source": [
    "t = Table(matrix)"
   ]
  },
  {
   "cell_type": "code",
   "execution_count": 114,
   "metadata": {},
   "outputs": [
    {
     "data": {
      "text/plain": [
       "[0, 0, 1]"
      ]
     },
     "execution_count": 114,
     "metadata": {},
     "output_type": "execute_result"
    }
   ],
   "source": [
    "t[0]"
   ]
  },
  {
   "cell_type": "code",
   "execution_count": 115,
   "metadata": {},
   "outputs": [],
   "source": [
    "t2 = Table(matrix, column_names=[\"a\", \"b\", \"c\"])"
   ]
  },
  {
   "cell_type": "code",
   "execution_count": 116,
   "metadata": {},
   "outputs": [
    {
     "data": {
      "text/plain": [
       "[0, 0, 1]"
      ]
     },
     "execution_count": 116,
     "metadata": {},
     "output_type": "execute_result"
    }
   ],
   "source": [
    "t2['a']"
   ]
  },
  {
   "cell_type": "code",
   "execution_count": 117,
   "metadata": {},
   "outputs": [
    {
     "data": {
      "text/plain": [
       "[[0, 1, 0], [1, 0, 0]]"
      ]
     },
     "execution_count": 117,
     "metadata": {},
     "output_type": "execute_result"
    }
   ],
   "source": [
    "t2.tail(2)"
   ]
  },
  {
   "cell_type": "code",
   "execution_count": 118,
   "metadata": {},
   "outputs": [
    {
     "data": {
      "text/plain": [
       "[0, 1]"
      ]
     },
     "execution_count": 118,
     "metadata": {},
     "output_type": "execute_result"
    }
   ],
   "source": [
    "t2.unique()"
   ]
  },
  {
   "cell_type": "code",
   "execution_count": 119,
   "metadata": {},
   "outputs": [],
   "source": [
    "m2 = [[1, 2, 3], [4, 4, 4], [5, 4, 7]]"
   ]
  },
  {
   "cell_type": "code",
   "execution_count": 120,
   "metadata": {},
   "outputs": [],
   "source": [
    "t3 = Table(m2)"
   ]
  },
  {
   "cell_type": "code",
   "execution_count": 121,
   "metadata": {},
   "outputs": [
    {
     "data": {
      "text/plain": [
       "[1, 2, 3, 4, 5, 7]"
      ]
     },
     "execution_count": 121,
     "metadata": {},
     "output_type": "execute_result"
    }
   ],
   "source": [
    "t3.unique()"
   ]
  },
  {
   "cell_type": "code",
   "execution_count": 122,
   "metadata": {},
   "outputs": [
    {
     "data": {
      "text/plain": [
       "[2, 4]"
      ]
     },
     "execution_count": 122,
     "metadata": {},
     "output_type": "execute_result"
    }
   ],
   "source": [
    "t3._get_column_(1).unique()"
   ]
  },
  {
   "cell_type": "code",
   "execution_count": 123,
   "metadata": {},
   "outputs": [
    {
     "data": {
      "text/plain": [
       "defaultdict(int, {1: 1, 2: 1, 3: 1, 4: 4, 5: 1, 7: 1})"
      ]
     },
     "execution_count": 123,
     "metadata": {},
     "output_type": "execute_result"
    }
   ],
   "source": [
    "t3.count()"
   ]
  },
  {
   "cell_type": "code",
   "execution_count": 124,
   "metadata": {},
   "outputs": [
    {
     "data": {
      "text/plain": [
       "defaultdict(int, {3: 1, 4: 1, 7: 1})"
      ]
     },
     "execution_count": 124,
     "metadata": {},
     "output_type": "execute_result"
    }
   ],
   "source": [
    "t3[2].count()"
   ]
  },
  {
   "cell_type": "code",
   "execution_count": null,
   "metadata": {},
   "outputs": [],
   "source": []
  }
 ],
 "metadata": {
  "kernelspec": {
   "display_name": "Python 3",
   "language": "python",
   "name": "python3"
  },
  "language_info": {
   "codemirror_mode": {
    "name": "ipython",
    "version": 3
   },
   "file_extension": ".py",
   "mimetype": "text/x-python",
   "name": "python",
   "nbconvert_exporter": "python",
   "pygments_lexer": "ipython3",
   "version": "3.7.0"
  }
 },
 "nbformat": 4,
 "nbformat_minor": 2
}
